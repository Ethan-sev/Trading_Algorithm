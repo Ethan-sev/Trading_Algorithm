{
 "cells": [
  {
   "cell_type": "code",
   "execution_count": 4,
   "metadata": {},
   "outputs": [
    {
     "name": "stdout",
     "output_type": "stream",
     "text": [
      "Data successfully inserted!\n"
     ]
    }
   ],
   "source": [
    "df = pd.read_csv('path_to_your_csv.csv')\n",
    "\n",
    "# Connect to MongoDB\n",
    "client = MongoClient(\"mongodb://localhost:27017/\")  # Default MongoDB URI\n",
    "db = client[\"your_database_name\"]  # Replace with your desired database name\n",
    "collection = db[\"your_collection_name\"]  # Replace with your desired collection name\n",
    "\n",
    "# Convert DataFrame to dictionary and insert into MongoDB\n",
    "records = df.to_dict(orient='records')\n",
    "collection.insert_many(records)\n",
    "\n",
    "print(f\"Inserted {len(records)} records into the database!\")"
   ]
  },
  {
   "cell_type": "code",
   "execution_count": 1,
   "metadata": {},
   "outputs": [
    {
     "name": "stdout",
     "output_type": "stream",
     "text": [
      "CSV data inserted successfully!\n"
     ]
    }
   ],
   "source": [
    "import pandas as pd\n",
    "from pymongo import MongoClient\n",
    "\n",
    "# Connect to MongoDB (adjust the URI if needed)\n",
    "client = MongoClient(\"mongodb://localhost:27017/\")\n",
    "db = client[\"options_db\"]  # Use your database name\n",
    "collection = db[\"historical_with_premiums\"]  # The target collection name\n",
    "\n",
    "# Read the CSV file\n",
    "csv_file = \"historical_stock_data_with_premiums.csv\"\n",
    "df = pd.read_csv(csv_file, parse_dates=[\"Date\"])\n",
    "\n",
    "# Convert DataFrame to a list of dictionaries\n",
    "records = df.to_dict(\"records\")\n",
    "\n",
    "# Insert the records into MongoDB\n",
    "if records:\n",
    "    collection.insert_many(records)\n",
    "    print(\"CSV data inserted successfully!\")\n",
    "else:\n",
    "    print(\"No records found to insert.\")"
   ]
  }
 ],
 "metadata": {
  "kernelspec": {
   "display_name": "base",
   "language": "python",
   "name": "python3"
  },
  "language_info": {
   "codemirror_mode": {
    "name": "ipython",
    "version": 3
   },
   "file_extension": ".py",
   "mimetype": "text/x-python",
   "name": "python",
   "nbconvert_exporter": "python",
   "pygments_lexer": "ipython3",
   "version": "3.11.7"
  }
 },
 "nbformat": 4,
 "nbformat_minor": 2
}
