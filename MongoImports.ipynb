{
 "cells": [
  {
   "cell_type": "code",
   "execution_count": 4,
   "metadata": {},
   "outputs": [
    {
     "name": "stdout",
     "output_type": "stream",
     "text": [
      "Data successfully inserted!\n"
     ]
    }
   ],
   "source": [
    "import pandas as pd\n",
    "from pymongo import MongoClient\n",
    "\n",
    "# Load the CSV data into pandas\n",
    "df = pd.read_csv(r'C:\\Users\\Sezy\\OneDrive\\Personal_Projects\\Trading_Algorithm\\CSVFILES\\top_10_stocks_2024.csv')\n",
    "\n",
    "# Connect to MongoDB locally\n",
    "client = MongoClient('mongodb://localhost:27017')\n",
    "\n",
    "# Choose your database (it will be created if it doesn't exist)\n",
    "db = client['StockData']\n",
    "\n",
    "\n",
    "\n",
    "# Insert the DataFrame into MongoDB\n",
    "collection.insert_many(df.to_dict('records'))\n",
    "\n",
    "print(\"Data successfully inserted!\")"
   ]
  },
  {
   "cell_type": "code",
   "execution_count": 3,
   "metadata": {},
   "outputs": [
    {
     "ename": "AttributeError",
     "evalue": "'Cursor' object has no attribute 'pretty'",
     "output_type": "error",
     "traceback": [
      "\u001b[1;31m---------------------------------------------------------------------------\u001b[0m",
      "\u001b[1;31mAttributeError\u001b[0m                            Traceback (most recent call last)",
      "Cell \u001b[1;32mIn[3], line 1\u001b[0m\n\u001b[1;32m----> 1\u001b[0m db\u001b[38;5;241m.\u001b[39mstocks\u001b[38;5;241m.\u001b[39mfind()\u001b[38;5;241m.\u001b[39mpretty()\n",
      "\u001b[1;31mAttributeError\u001b[0m: 'Cursor' object has no attribute 'pretty'"
     ]
    }
   ],
   "source": []
  }
 ],
 "metadata": {
  "kernelspec": {
   "display_name": "base",
   "language": "python",
   "name": "python3"
  },
  "language_info": {
   "codemirror_mode": {
    "name": "ipython",
    "version": 3
   },
   "file_extension": ".py",
   "mimetype": "text/x-python",
   "name": "python",
   "nbconvert_exporter": "python",
   "pygments_lexer": "ipython3",
   "version": "3.11.7"
  }
 },
 "nbformat": 4,
 "nbformat_minor": 2
}
