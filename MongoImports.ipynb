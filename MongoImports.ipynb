{
 "cells": [
  {
   "cell_type": "code",
   "execution_count": 4,
   "metadata": {},
   "outputs": [
    {
     "name": "stdout",
     "output_type": "stream",
     "text": [
      "Data successfully inserted!\n"
     ]
    }
   ],
   "source": [
    "df = pd.read_csv('path_to_your_csv.csv')\n",
    "\n",
    "# Connect to MongoDB\n",
    "client = MongoClient(\"mongodb://localhost:27017/\")  # Default MongoDB URI\n",
    "db = client[\"your_database_name\"]  # Replace with your desired database name\n",
    "collection = db[\"your_collection_name\"]  # Replace with your desired collection name\n",
    "\n",
    "# Convert DataFrame to dictionary and insert into MongoDB\n",
    "records = df.to_dict(orient='records')\n",
    "collection.insert_many(records)\n",
    "\n",
    "print(f\"Inserted {len(records)} records into the database!\")"
   ]
  },
  {
   "cell_type": "code",
   "execution_count": 3,
   "metadata": {},
   "outputs": [
    {
     "ename": "AttributeError",
     "evalue": "'Cursor' object has no attribute 'pretty'",
     "output_type": "error",
     "traceback": [
      "\u001b[1;31m---------------------------------------------------------------------------\u001b[0m",
      "\u001b[1;31mAttributeError\u001b[0m                            Traceback (most recent call last)",
      "Cell \u001b[1;32mIn[3], line 1\u001b[0m\n\u001b[1;32m----> 1\u001b[0m db\u001b[38;5;241m.\u001b[39mstocks\u001b[38;5;241m.\u001b[39mfind()\u001b[38;5;241m.\u001b[39mpretty()\n",
      "\u001b[1;31mAttributeError\u001b[0m: 'Cursor' object has no attribute 'pretty'"
     ]
    }
   ],
   "source": []
  }
 ],
 "metadata": {
  "kernelspec": {
   "display_name": "base",
   "language": "python",
   "name": "python3"
  },
  "language_info": {
   "codemirror_mode": {
    "name": "ipython",
    "version": 3
   },
   "file_extension": ".py",
   "mimetype": "text/x-python",
   "name": "python",
   "nbconvert_exporter": "python",
   "pygments_lexer": "ipython3",
   "version": "3.11.7"
  }
 },
 "nbformat": 4,
 "nbformat_minor": 2
}
