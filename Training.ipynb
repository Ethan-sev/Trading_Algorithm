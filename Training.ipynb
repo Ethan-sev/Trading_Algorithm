{
 "cells": [
  {
   "cell_type": "markdown",
   "metadata": {},
   "source": [
    "### Training the model to select put strategy"
   ]
  },
  {
   "cell_type": "markdown",
   "metadata": {},
   "source": [
    "### Train Stock Price"
   ]
  },
  {
   "cell_type": "code",
   "execution_count": 2,
   "metadata": {},
   "outputs": [
    {
     "name": "stdout",
     "output_type": "stream",
     "text": [
      "Model training complete. Files saved as trained_model.pkl and scaler.pkl\n"
     ]
    }
   ],
   "source": [
    "import pandas as pd\n",
    "import numpy as np\n",
    "from sklearn.ensemble import RandomForestRegressor\n",
    "from sklearn.model_selection import train_test_split\n",
    "from sklearn.preprocessing import StandardScaler\n",
    "import joblib\n",
    "\n",
    "# Load the historical options data with simulated trade outcomes.\n",
    "# Each row represents one trade opportunity for a specific out-of-the-money (OTM) put.\n",
    "df = pd.read_csv(r\"C:\\Users\\Sezy\\OneDrive\\Personal_Projects\\Trading_Algorithm\\CSVFILES\\historical_stock_data_with_premiums.csv\", parse_dates=[\"Date\"])\n",
    "\n",
    "# Simulate the trade: look 3 weeks ahead (approx. 15 trading days).\n",
    "df[\"Future_Price\"] = df.groupby(\"Ticker\")[\"Stock Price\"].shift(-15)\n",
    "df = df.dropna(subset=[\"Future_Price\"])\n",
    "\n",
    "# Expand the dataset: one row per trade opportunity per available OTM strike (OTM1-OTM4)\n",
    "expanded_rows = []\n",
    "contract_size = 100  # Standard contract size\n",
    "\n",
    "for otm in range(1, 5):\n",
    "    for idx, row in df.iterrows():\n",
    "        new_row = row.copy()\n",
    "        new_row[\"StrikePrice\"] = row[f\"OTM{otm}\"]\n",
    "        new_row[\"Premium\"] = row[f\"Pred_Premium_OTM{otm}\"]\n",
    "        # Calculate profit:\n",
    "        # If the option expires worthless (Future_Price > StrikePrice), profit = premium * contract size.\n",
    "        # If the option is exercised (Future_Price <= StrikePrice), profit = premium minus the loss from assignment.\n",
    "        if row[\"Future_Price\"] > row[f\"OTM{otm}\"]:\n",
    "            profit = row[f\"Pred_Premium_OTM{otm}\"] * contract_size\n",
    "        else:\n",
    "            profit = row[f\"Pred_Premium_OTM{otm}\"] * contract_size - ((row[f\"OTM{otm}\"] - row[\"Future_Price\"]) * contract_size)\n",
    "        new_row[\"Profit\"] = profit\n",
    "        new_row[\"OTM_Level\"] = f\"OTM{otm}\"\n",
    "        expanded_rows.append(new_row)\n",
    "\n",
    "df_expanded = pd.DataFrame(expanded_rows)\n",
    "\n",
    "# Features we use:\n",
    "# - Current Stock Price\n",
    "# - 50-day and 200-day moving averages (sma_50, sma_200)\n",
    "# - Annualized volatility\n",
    "# - The chosen Strike Price\n",
    "# - The option's Premium\n",
    "feature_cols = [\"Stock Price\", \"sma_50\", \"sma_200\", \"annualized_volatility\", \"StrikePrice\", \"Premium\"]\n",
    "df_expanded = df_expanded.dropna(subset=feature_cols + [\"Profit\"])\n",
    "X = df_expanded[feature_cols]\n",
    "y = df_expanded[\"Profit\"]\n",
    "\n",
    "# Standardize the features.\n",
    "scaler = StandardScaler()\n",
    "X_scaled = scaler.fit_transform(X)\n",
    "\n",
    "# Split into training and testing sets.\n",
    "X_train, X_test, y_train, y_test = train_test_split(X_scaled, y, test_size=0.2, random_state=42)\n",
    "\n",
    "# Train a RandomForestRegressor to predict the profit from selling a put.\n",
    "model = RandomForestRegressor(n_estimators=100, random_state=42)\n",
    "model.fit(X_train, y_train)\n",
    "\n",
    "# Save the trained model and scaler.\n",
    "joblib.dump(model, \"trained_model.pkl\")\n",
    "joblib.dump(scaler, \"scaler.pkl\")\n",
    "\n",
    "print(\"Model training complete. Files saved as trained_model.pkl and scaler.pkl\")"
   ]
  }
 ],
 "metadata": {
  "kernelspec": {
   "display_name": "base",
   "language": "python",
   "name": "python3"
  },
  "language_info": {
   "codemirror_mode": {
    "name": "ipython",
    "version": 3
   },
   "file_extension": ".py",
   "mimetype": "text/x-python",
   "name": "python",
   "nbconvert_exporter": "python",
   "pygments_lexer": "ipython3",
   "version": "3.11.7"
  }
 },
 "nbformat": 4,
 "nbformat_minor": 2
}
