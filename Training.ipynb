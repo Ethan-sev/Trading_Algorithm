{
 "cells": [
  {
   "cell_type": "code",
   "execution_count": 9,
   "metadata": {},
   "outputs": [
    {
     "name": "stdout",
     "output_type": "stream",
     "text": [
      "                        Date        Open        High         Low       Close  \\\n",
      "0  2020-02-04 00:00:00-05:00  169.431858  172.779557  168.637973  172.282181   \n",
      "1  2020-02-05 00:00:00-05:00  176.022006  176.184606  170.646562  172.071716   \n",
      "2  2020-02-06 00:00:00-05:00  173.095165  175.821154  172.224760  175.639420   \n",
      "3  2020-02-07 00:00:00-05:00  174.893354  177.552382  174.539444  175.888092   \n",
      "4  2020-02-10 00:00:00-05:00  175.591599  180.622707  175.275957  180.488800   \n",
      "\n",
      "     Volume  Dividends  Stock Splits  daily_returns  annualized_volatility  \\\n",
      "0  36433300        0.0           0.0            NaN                0.30621   \n",
      "1  39186300        0.0           0.0      -0.001222                0.30621   \n",
      "2  27751400        0.0           0.0       0.020734                0.30621   \n",
      "3  33529100        0.0           0.0       0.001416                0.30621   \n",
      "4  35844300        0.0           0.0       0.026157                0.30621   \n",
      "\n",
      "  ticker  Capital Gains  \n",
      "0   MSFT            NaN  \n",
      "1   MSFT            NaN  \n",
      "2   MSFT            NaN  \n",
      "3   MSFT            NaN  \n",
      "4   MSFT            NaN  \n"
     ]
    }
   ],
   "source": [
    "import pandas as pd\n",
    "\n",
    "# Load the CSV into a DataFrame\n",
    "stock_data = pd.read_csv(r\"C:\\Users\\Sezy\\OneDrive\\Personal_Projects\\Trading_Algorithm\\all_stocks_historical_data.csv\")\n",
    "\n",
    "# Print the first few rows to ensure it's loaded correctly\n",
    "print(stock_data.head())"
   ]
  },
  {
   "cell_type": "code",
   "execution_count": 10,
   "metadata": {},
   "outputs": [
    {
     "name": "stdout",
     "output_type": "stream",
     "text": [
      "Index(['date', 'open', 'high', 'low', 'close', 'volume', 'dividends',\n",
      "       'stock splits', 'daily_returns', 'annualized_volatility', 'ticker',\n",
      "       'capital gains'],\n",
      "      dtype='object')\n"
     ]
    }
   ],
   "source": [
    "# Standardize column names to lowercase and strip any extra spaces\n",
    "stock_data.columns = stock_data.columns.str.lower().str.strip()\n",
    "\n",
    "# Check the columns to confirm they have been standardized\n",
    "print(stock_data.columns)"
   ]
  },
  {
   "cell_type": "code",
   "execution_count": 14,
   "metadata": {},
   "outputs": [
    {
     "name": "stdout",
     "output_type": "stream",
     "text": [
      "                        date ticker       close      sma_50     sma_200\n",
      "0  2020-02-04 00:00:00-05:00   MSFT  172.282181  172.282181  172.282181\n",
      "1  2020-02-05 00:00:00-05:00   MSFT  172.071716  172.176949  172.176949\n",
      "2  2020-02-06 00:00:00-05:00   MSFT  175.639420  173.331106  173.331106\n",
      "3  2020-02-07 00:00:00-05:00   MSFT  175.888092  173.970352  173.970352\n",
      "4  2020-02-10 00:00:00-05:00   MSFT  180.488800  175.274042  175.274042\n"
     ]
    }
   ],
   "source": [
    "# Group by ticker and calculate the SMA for each stock separately\n",
    "stock_data['sma_50'] = stock_data.groupby('ticker')['close'].rolling(window=50, min_periods=1).mean().reset_index(level=0, drop=True)\n",
    "stock_data['sma_200'] = stock_data.groupby('ticker')['close'].rolling(window=200, min_periods=1).mean().reset_index(level=0, drop=True)\n",
    "\n",
    "# Display the first few rows to check if the columns are added correctly\n",
    "print(stock_data[['date', 'ticker', 'close', 'sma_50', 'sma_200']].head())"
   ]
  },
  {
   "cell_type": "code",
   "execution_count": 16,
   "metadata": {},
   "outputs": [
    {
     "name": "stdout",
     "output_type": "stream",
     "text": [
      "Modified data saved successfully!\n"
     ]
    }
   ],
   "source": [
    "stock_data.to_csv(r\"C:\\Users\\Sezy\\OneDrive\\Personal_Projects\\Trading_Algorithm\\modified_stock_data.csv\", index=False)\n",
    "\n",
    "# Confirm that the data has been saved\n",
    "print(\"Modified data saved successfully!\")"
   ]
  },
  {
   "cell_type": "code",
   "execution_count": 6,
   "metadata": {},
   "outputs": [
    {
     "name": "stdout",
     "output_type": "stream",
     "text": [
      "Index(['date', 'open', 'high', 'low', 'close', 'volume', 'dividends',\n",
      "       'stock splits', 'daily_returns', 'annualized_volatility', 'ticker',\n",
      "       'capital gains'],\n",
      "      dtype='object')\n"
     ]
    }
   ],
   "source": [
    "print(stock_data.columns)"
   ]
  },
  {
   "cell_type": "code",
   "execution_count": 17,
   "metadata": {},
   "outputs": [
    {
     "name": "stdout",
     "output_type": "stream",
     "text": [
      "                        date ticker       close  rsi      macd  macd_signal\n",
      "0  2020-02-04 00:00:00-05:00   MSFT  172.282181  NaN  0.000000     0.000000\n",
      "1  2020-02-05 00:00:00-05:00   MSFT  172.071716  NaN -0.016789    -0.003358\n",
      "2  2020-02-06 00:00:00-05:00   MSFT  175.639420  NaN  0.254851     0.048284\n",
      "3  2020-02-07 00:00:00-05:00   MSFT  175.888092  NaN  0.484608     0.135549\n",
      "4  2020-02-10 00:00:00-05:00   MSFT  180.488800  NaN  1.026102     0.313659\n"
     ]
    }
   ],
   "source": [
    "import numpy as np\n",
    "\n",
    "# 1. Calculate the RSI (14-day period is typical)\n",
    "delta = stock_data['close'].diff()\n",
    "gain = (delta.where(delta > 0, 0)).rolling(window=14).mean()\n",
    "loss = (-delta.where(delta < 0, 0)).rolling(window=14).mean()\n",
    "rs = gain / loss\n",
    "rsi = 100 - (100 / (1 + rs))\n",
    "\n",
    "# Add RSI to the DataFrame\n",
    "stock_data['rsi'] = rsi\n",
    "\n",
    "# 2. Calculate the MACD (12-day and 26-day EMAs)\n",
    "ema_12 = stock_data['close'].ewm(span=12, adjust=False).mean()\n",
    "ema_26 = stock_data['close'].ewm(span=26, adjust=False).mean()\n",
    "\n",
    "# MACD = 12-day EMA - 26-day EMA\n",
    "macd = ema_12 - ema_26\n",
    "\n",
    "# Signal line = 9-day EMA of the MACD\n",
    "signal_line = macd.ewm(span=9, adjust=False).mean()\n",
    "\n",
    "# Add MACD and Signal line to the DataFrame\n",
    "stock_data['macd'] = macd\n",
    "stock_data['macd_signal'] = signal_line\n",
    "\n",
    "# Display the first few rows to check the new columns\n",
    "print(stock_data[['date', 'ticker', 'close', 'rsi', 'macd', 'macd_signal']].head())"
   ]
  },
  {
   "cell_type": "code",
   "execution_count": 18,
   "metadata": {},
   "outputs": [
    {
     "name": "stdout",
     "output_type": "stream",
     "text": [
      "                           date ticker       close        rsi       macd  \\\n",
      "8807  2020-02-05 00:00:00-05:00    SPY  308.602631  83.764968  21.331519   \n",
      "8808  2020-02-06 00:00:00-05:00    SPY  309.640991  83.568337  30.245125   \n",
      "8809  2020-02-07 00:00:00-05:00    SPY  307.990753  82.825374  36.752404   \n",
      "8810  2020-02-10 00:00:00-05:00    SPY  310.289948  82.555381  41.615279   \n",
      "8811  2020-02-11 00:00:00-05:00    SPY  310.827698  82.582323  44.993874   \n",
      "\n",
      "      macd_signal  \n",
      "8807     4.167504  \n",
      "8808     9.383028  \n",
      "8809    14.856903  \n",
      "8810    20.208579  \n",
      "8811    25.165638  \n"
     ]
    }
   ],
   "source": [
    "# Drop rows with NaN values in any of the columns\n",
    "stock_data_cleaned = stock_data.dropna()\n",
    "\n",
    "# Display the first few rows of the cleaned data\n",
    "print(stock_data_cleaned[['date', 'ticker', 'close', 'rsi', 'macd', 'macd_signal']].head())"
   ]
  },
  {
   "cell_type": "code",
   "execution_count": 20,
   "metadata": {},
   "outputs": [
    {
     "name": "stdout",
     "output_type": "stream",
     "text": [
      "                        date ticker       close  rsi      macd  macd_signal\n",
      "0  2020-02-04 00:00:00-05:00   MSFT  172.282181  NaN  0.000000     0.000000\n",
      "1  2020-02-05 00:00:00-05:00   MSFT  172.071716  NaN -0.016789    -0.003358\n",
      "2  2020-02-06 00:00:00-05:00   MSFT  175.639420  NaN  0.254851     0.048284\n",
      "3  2020-02-07 00:00:00-05:00   MSFT  175.888092  NaN  0.484608     0.135549\n",
      "4  2020-02-10 00:00:00-05:00   MSFT  180.488800  NaN  1.026102     0.313659\n"
     ]
    }
   ],
   "source": [
    "# Forward fill NaN values\n",
    "stock_data_filled = stock_data.ffill()\n",
    "\n",
    "# Display the first few rows\n",
    "print(stock_data_filled[['date', 'ticker', 'close', 'rsi', 'macd', 'macd_signal']].head())"
   ]
  },
  {
   "cell_type": "code",
   "execution_count": 21,
   "metadata": {},
   "outputs": [],
   "source": [
    "# Save the cleaned and enhanced DataFrame to a new CSV file\n",
    "stock_data_filled.to_csv('cleaned_stock_data.csv', index=False)"
   ]
  },
  {
   "cell_type": "code",
   "execution_count": null,
   "metadata": {},
   "outputs": [],
   "source": [
    "import pandas as pd\n",
    "\n",
    "# Load the options data (assuming you have this in a DataFrame)\n",
    "options_data = pd.read_csv(\"options_data.csv\")  # Replace with your actual file\n",
    "\n",
    "# Function to generate 10 ITM strike prices\n",
    "def generate_itm_strikes(current_price):\n",
    "    if current_price >= 200:\n",
    "        increment = 5\n",
    "    else:\n",
    "        increment = 1\n",
    "    return [current_price - (i * increment) for i in range(1, 11)]  # 10 ITM strikes\n",
    "\n",
    "# Apply function to generate ITM strike prices for each row\n",
    "options_data['ITM_Strikes'] = options_data['Current Price'].apply(generate_itm_strikes)\n",
    "\n",
    "# Explode the list into separate rows (so each strike has its own row)\n",
    "itm_strikes_df = options_data.explode('ITM_Strikes')\n",
    "\n",
    "# Rename column for clarity\n",
    "itm_strikes_df = itm_strikes_df.rename(columns={'ITM_Strikes': 'Strike Price'})\n",
    "\n",
    "# Display sample output\n",
    "print(itm_strikes_df.head(20))"
   ]
  },
  {
   "cell_type": "code",
   "execution_count": 24,
   "metadata": {},
   "outputs": [
    {
     "name": "stdout",
     "output_type": "stream",
     "text": [
      "Mean Absolute Error on training data: 3.087767840584091\n"
     ]
    }
   ],
   "source": [
    "import pandas as pd\n",
    "from sklearn.linear_model import LinearRegression\n",
    "from sklearn.metrics import mean_absolute_error\n",
    "\n",
    "# Load the options data\n",
    "options_data = pd.read_csv(\"options_data.csv\")\n",
    "\n",
    "# Clean column names by stripping whitespace\n",
    "options_data.columns = options_data.columns.str.strip()\n",
    "\n",
    "# Calculate moneyness: (Strike Price - Current Price) / Current Price\n",
    "options_data['moneyness'] = (options_data['Strike Price'] - options_data['Current Price']) / options_data['Current Price']\n",
    "\n",
    "# Define features and target\n",
    "X = options_data[['Current Price', 'Strike Price', 'moneyness']]\n",
    "y = options_data['Last Price']  # Option premium\n",
    "\n",
    "# Initialize and train the Linear Regression model\n",
    "model = LinearRegression()\n",
    "model.fit(X, y)\n",
    "\n",
    "# Predict on the training data and evaluate the model\n",
    "y_pred = model.predict(X)\n",
    "mae = mean_absolute_error(y, y_pred)\n",
    "print(\"Mean Absolute Error on training data:\", mae)"
   ]
  },
  {
   "cell_type": "code",
   "execution_count": 25,
   "metadata": {},
   "outputs": [
    {
     "ename": "KeyError",
     "evalue": "'ITM1'",
     "output_type": "error",
     "traceback": [
      "\u001b[1;31m---------------------------------------------------------------------------\u001b[0m",
      "\u001b[1;31mKeyError\u001b[0m                                  Traceback (most recent call last)",
      "File \u001b[1;32mc:\\Users\\Sezy\\anaconda3\\Lib\\site-packages\\pandas\\core\\indexes\\base.py:3791\u001b[0m, in \u001b[0;36mIndex.get_loc\u001b[1;34m(self, key)\u001b[0m\n\u001b[0;32m   3790\u001b[0m \u001b[38;5;28;01mtry\u001b[39;00m:\n\u001b[1;32m-> 3791\u001b[0m     \u001b[38;5;28;01mreturn\u001b[39;00m \u001b[38;5;28mself\u001b[39m\u001b[38;5;241m.\u001b[39m_engine\u001b[38;5;241m.\u001b[39mget_loc(casted_key)\n\u001b[0;32m   3792\u001b[0m \u001b[38;5;28;01mexcept\u001b[39;00m \u001b[38;5;167;01mKeyError\u001b[39;00m \u001b[38;5;28;01mas\u001b[39;00m err:\n",
      "File \u001b[1;32mindex.pyx:152\u001b[0m, in \u001b[0;36mpandas._libs.index.IndexEngine.get_loc\u001b[1;34m()\u001b[0m\n",
      "File \u001b[1;32mindex.pyx:181\u001b[0m, in \u001b[0;36mpandas._libs.index.IndexEngine.get_loc\u001b[1;34m()\u001b[0m\n",
      "File \u001b[1;32mpandas\\_libs\\hashtable_class_helper.pxi:7080\u001b[0m, in \u001b[0;36mpandas._libs.hashtable.PyObjectHashTable.get_item\u001b[1;34m()\u001b[0m\n",
      "File \u001b[1;32mpandas\\_libs\\hashtable_class_helper.pxi:7088\u001b[0m, in \u001b[0;36mpandas._libs.hashtable.PyObjectHashTable.get_item\u001b[1;34m()\u001b[0m\n",
      "\u001b[1;31mKeyError\u001b[0m: 'ITM1'",
      "\nThe above exception was the direct cause of the following exception:\n",
      "\u001b[1;31mKeyError\u001b[0m                                  Traceback (most recent call last)",
      "Cell \u001b[1;32mIn[25], line 13\u001b[0m\n\u001b[0;32m     11\u001b[0m \u001b[38;5;66;03m# Apply the prediction for each ITM strike column and store the result in a new column.\u001b[39;00m\n\u001b[0;32m     12\u001b[0m \u001b[38;5;28;01mfor\u001b[39;00m col \u001b[38;5;129;01min\u001b[39;00m [\u001b[38;5;124m'\u001b[39m\u001b[38;5;124mITM1\u001b[39m\u001b[38;5;124m'\u001b[39m, \u001b[38;5;124m'\u001b[39m\u001b[38;5;124mITM2\u001b[39m\u001b[38;5;124m'\u001b[39m, \u001b[38;5;124m'\u001b[39m\u001b[38;5;124mITM3\u001b[39m\u001b[38;5;124m'\u001b[39m, \u001b[38;5;124m'\u001b[39m\u001b[38;5;124mITM4\u001b[39m\u001b[38;5;124m'\u001b[39m, \u001b[38;5;124m'\u001b[39m\u001b[38;5;124mITM5\u001b[39m\u001b[38;5;124m'\u001b[39m]:\n\u001b[1;32m---> 13\u001b[0m     merged_data[\u001b[38;5;124mf\u001b[39m\u001b[38;5;124m'\u001b[39m\u001b[38;5;124mEstimated_Premium_\u001b[39m\u001b[38;5;132;01m{\u001b[39;00mcol\u001b[38;5;132;01m}\u001b[39;00m\u001b[38;5;124m'\u001b[39m] \u001b[38;5;241m=\u001b[39m merged_data\u001b[38;5;241m.\u001b[39mapply(\u001b[38;5;28;01mlambda\u001b[39;00m row: predict_premium(row, col), axis\u001b[38;5;241m=\u001b[39m\u001b[38;5;241m1\u001b[39m)\n\u001b[0;32m     15\u001b[0m \u001b[38;5;66;03m# Display a sample of the results.\u001b[39;00m\n\u001b[0;32m     16\u001b[0m \u001b[38;5;28mprint\u001b[39m(merged_data[[\u001b[38;5;124m'\u001b[39m\u001b[38;5;124mdate\u001b[39m\u001b[38;5;124m'\u001b[39m, \u001b[38;5;124m'\u001b[39m\u001b[38;5;124mopen\u001b[39m\u001b[38;5;124m'\u001b[39m, \u001b[38;5;124m'\u001b[39m\u001b[38;5;124mITM1\u001b[39m\u001b[38;5;124m'\u001b[39m, \u001b[38;5;124m'\u001b[39m\u001b[38;5;124mEstimated_Premium_ITM1\u001b[39m\u001b[38;5;124m'\u001b[39m]]\u001b[38;5;241m.\u001b[39mhead())\n",
      "File \u001b[1;32mc:\\Users\\Sezy\\anaconda3\\Lib\\site-packages\\pandas\\core\\frame.py:10034\u001b[0m, in \u001b[0;36mDataFrame.apply\u001b[1;34m(self, func, axis, raw, result_type, args, by_row, **kwargs)\u001b[0m\n\u001b[0;32m  10022\u001b[0m \u001b[38;5;28;01mfrom\u001b[39;00m \u001b[38;5;21;01mpandas\u001b[39;00m\u001b[38;5;21;01m.\u001b[39;00m\u001b[38;5;21;01mcore\u001b[39;00m\u001b[38;5;21;01m.\u001b[39;00m\u001b[38;5;21;01mapply\u001b[39;00m \u001b[38;5;28;01mimport\u001b[39;00m frame_apply\n\u001b[0;32m  10024\u001b[0m op \u001b[38;5;241m=\u001b[39m frame_apply(\n\u001b[0;32m  10025\u001b[0m     \u001b[38;5;28mself\u001b[39m,\n\u001b[0;32m  10026\u001b[0m     func\u001b[38;5;241m=\u001b[39mfunc,\n\u001b[1;32m   (...)\u001b[0m\n\u001b[0;32m  10032\u001b[0m     kwargs\u001b[38;5;241m=\u001b[39mkwargs,\n\u001b[0;32m  10033\u001b[0m )\n\u001b[1;32m> 10034\u001b[0m \u001b[38;5;28;01mreturn\u001b[39;00m op\u001b[38;5;241m.\u001b[39mapply()\u001b[38;5;241m.\u001b[39m__finalize__(\u001b[38;5;28mself\u001b[39m, method\u001b[38;5;241m=\u001b[39m\u001b[38;5;124m\"\u001b[39m\u001b[38;5;124mapply\u001b[39m\u001b[38;5;124m\"\u001b[39m)\n",
      "File \u001b[1;32mc:\\Users\\Sezy\\anaconda3\\Lib\\site-packages\\pandas\\core\\apply.py:837\u001b[0m, in \u001b[0;36mFrameApply.apply\u001b[1;34m(self)\u001b[0m\n\u001b[0;32m    834\u001b[0m \u001b[38;5;28;01melif\u001b[39;00m \u001b[38;5;28mself\u001b[39m\u001b[38;5;241m.\u001b[39mraw:\n\u001b[0;32m    835\u001b[0m     \u001b[38;5;28;01mreturn\u001b[39;00m \u001b[38;5;28mself\u001b[39m\u001b[38;5;241m.\u001b[39mapply_raw()\n\u001b[1;32m--> 837\u001b[0m \u001b[38;5;28;01mreturn\u001b[39;00m \u001b[38;5;28mself\u001b[39m\u001b[38;5;241m.\u001b[39mapply_standard()\n",
      "File \u001b[1;32mc:\\Users\\Sezy\\anaconda3\\Lib\\site-packages\\pandas\\core\\apply.py:965\u001b[0m, in \u001b[0;36mFrameApply.apply_standard\u001b[1;34m(self)\u001b[0m\n\u001b[0;32m    964\u001b[0m \u001b[38;5;28;01mdef\u001b[39;00m \u001b[38;5;21mapply_standard\u001b[39m(\u001b[38;5;28mself\u001b[39m):\n\u001b[1;32m--> 965\u001b[0m     results, res_index \u001b[38;5;241m=\u001b[39m \u001b[38;5;28mself\u001b[39m\u001b[38;5;241m.\u001b[39mapply_series_generator()\n\u001b[0;32m    967\u001b[0m     \u001b[38;5;66;03m# wrap results\u001b[39;00m\n\u001b[0;32m    968\u001b[0m     \u001b[38;5;28;01mreturn\u001b[39;00m \u001b[38;5;28mself\u001b[39m\u001b[38;5;241m.\u001b[39mwrap_results(results, res_index)\n",
      "File \u001b[1;32mc:\\Users\\Sezy\\anaconda3\\Lib\\site-packages\\pandas\\core\\apply.py:981\u001b[0m, in \u001b[0;36mFrameApply.apply_series_generator\u001b[1;34m(self)\u001b[0m\n\u001b[0;32m    978\u001b[0m \u001b[38;5;28;01mwith\u001b[39;00m option_context(\u001b[38;5;124m\"\u001b[39m\u001b[38;5;124mmode.chained_assignment\u001b[39m\u001b[38;5;124m\"\u001b[39m, \u001b[38;5;28;01mNone\u001b[39;00m):\n\u001b[0;32m    979\u001b[0m     \u001b[38;5;28;01mfor\u001b[39;00m i, v \u001b[38;5;129;01min\u001b[39;00m \u001b[38;5;28menumerate\u001b[39m(series_gen):\n\u001b[0;32m    980\u001b[0m         \u001b[38;5;66;03m# ignore SettingWithCopy here in case the user mutates\u001b[39;00m\n\u001b[1;32m--> 981\u001b[0m         results[i] \u001b[38;5;241m=\u001b[39m \u001b[38;5;28mself\u001b[39m\u001b[38;5;241m.\u001b[39mfunc(v, \u001b[38;5;241m*\u001b[39m\u001b[38;5;28mself\u001b[39m\u001b[38;5;241m.\u001b[39margs, \u001b[38;5;241m*\u001b[39m\u001b[38;5;241m*\u001b[39m\u001b[38;5;28mself\u001b[39m\u001b[38;5;241m.\u001b[39mkwargs)\n\u001b[0;32m    982\u001b[0m         \u001b[38;5;28;01mif\u001b[39;00m \u001b[38;5;28misinstance\u001b[39m(results[i], ABCSeries):\n\u001b[0;32m    983\u001b[0m             \u001b[38;5;66;03m# If we have a view on v, we need to make a copy because\u001b[39;00m\n\u001b[0;32m    984\u001b[0m             \u001b[38;5;66;03m#  series_generator will swap out the underlying data\u001b[39;00m\n\u001b[0;32m    985\u001b[0m             results[i] \u001b[38;5;241m=\u001b[39m results[i]\u001b[38;5;241m.\u001b[39mcopy(deep\u001b[38;5;241m=\u001b[39m\u001b[38;5;28;01mFalse\u001b[39;00m)\n",
      "Cell \u001b[1;32mIn[25], line 13\u001b[0m, in \u001b[0;36m<lambda>\u001b[1;34m(row)\u001b[0m\n\u001b[0;32m     11\u001b[0m \u001b[38;5;66;03m# Apply the prediction for each ITM strike column and store the result in a new column.\u001b[39;00m\n\u001b[0;32m     12\u001b[0m \u001b[38;5;28;01mfor\u001b[39;00m col \u001b[38;5;129;01min\u001b[39;00m [\u001b[38;5;124m'\u001b[39m\u001b[38;5;124mITM1\u001b[39m\u001b[38;5;124m'\u001b[39m, \u001b[38;5;124m'\u001b[39m\u001b[38;5;124mITM2\u001b[39m\u001b[38;5;124m'\u001b[39m, \u001b[38;5;124m'\u001b[39m\u001b[38;5;124mITM3\u001b[39m\u001b[38;5;124m'\u001b[39m, \u001b[38;5;124m'\u001b[39m\u001b[38;5;124mITM4\u001b[39m\u001b[38;5;124m'\u001b[39m, \u001b[38;5;124m'\u001b[39m\u001b[38;5;124mITM5\u001b[39m\u001b[38;5;124m'\u001b[39m]:\n\u001b[1;32m---> 13\u001b[0m     merged_data[\u001b[38;5;124mf\u001b[39m\u001b[38;5;124m'\u001b[39m\u001b[38;5;124mEstimated_Premium_\u001b[39m\u001b[38;5;132;01m{\u001b[39;00mcol\u001b[38;5;132;01m}\u001b[39;00m\u001b[38;5;124m'\u001b[39m] \u001b[38;5;241m=\u001b[39m merged_data\u001b[38;5;241m.\u001b[39mapply(\u001b[38;5;28;01mlambda\u001b[39;00m row: predict_premium(row, col), axis\u001b[38;5;241m=\u001b[39m\u001b[38;5;241m1\u001b[39m)\n\u001b[0;32m     15\u001b[0m \u001b[38;5;66;03m# Display a sample of the results.\u001b[39;00m\n\u001b[0;32m     16\u001b[0m \u001b[38;5;28mprint\u001b[39m(merged_data[[\u001b[38;5;124m'\u001b[39m\u001b[38;5;124mdate\u001b[39m\u001b[38;5;124m'\u001b[39m, \u001b[38;5;124m'\u001b[39m\u001b[38;5;124mopen\u001b[39m\u001b[38;5;124m'\u001b[39m, \u001b[38;5;124m'\u001b[39m\u001b[38;5;124mITM1\u001b[39m\u001b[38;5;124m'\u001b[39m, \u001b[38;5;124m'\u001b[39m\u001b[38;5;124mEstimated_Premium_ITM1\u001b[39m\u001b[38;5;124m'\u001b[39m]]\u001b[38;5;241m.\u001b[39mhead())\n",
      "Cell \u001b[1;32mIn[25], line 3\u001b[0m, in \u001b[0;36mpredict_premium\u001b[1;34m(row, strike_col)\u001b[0m\n\u001b[0;32m      1\u001b[0m \u001b[38;5;28;01mdef\u001b[39;00m \u001b[38;5;21mpredict_premium\u001b[39m(row, strike_col):\n\u001b[0;32m      2\u001b[0m     current_price \u001b[38;5;241m=\u001b[39m row[\u001b[38;5;124m'\u001b[39m\u001b[38;5;124mopen\u001b[39m\u001b[38;5;124m'\u001b[39m]\n\u001b[1;32m----> 3\u001b[0m     strike \u001b[38;5;241m=\u001b[39m row[strike_col]\n\u001b[0;32m      4\u001b[0m     \u001b[38;5;66;03m# Calculate moneyness: how far the strike is from the current price, relative to the current price.\u001b[39;00m\n\u001b[0;32m      5\u001b[0m     moneyness \u001b[38;5;241m=\u001b[39m (strike \u001b[38;5;241m-\u001b[39m current_price) \u001b[38;5;241m/\u001b[39m current_price\n",
      "File \u001b[1;32mc:\\Users\\Sezy\\anaconda3\\Lib\\site-packages\\pandas\\core\\series.py:1040\u001b[0m, in \u001b[0;36mSeries.__getitem__\u001b[1;34m(self, key)\u001b[0m\n\u001b[0;32m   1037\u001b[0m     \u001b[38;5;28;01mreturn\u001b[39;00m \u001b[38;5;28mself\u001b[39m\u001b[38;5;241m.\u001b[39m_values[key]\n\u001b[0;32m   1039\u001b[0m \u001b[38;5;28;01melif\u001b[39;00m key_is_scalar:\n\u001b[1;32m-> 1040\u001b[0m     \u001b[38;5;28;01mreturn\u001b[39;00m \u001b[38;5;28mself\u001b[39m\u001b[38;5;241m.\u001b[39m_get_value(key)\n\u001b[0;32m   1042\u001b[0m \u001b[38;5;66;03m# Convert generator to list before going through hashable part\u001b[39;00m\n\u001b[0;32m   1043\u001b[0m \u001b[38;5;66;03m# (We will iterate through the generator there to check for slices)\u001b[39;00m\n\u001b[0;32m   1044\u001b[0m \u001b[38;5;28;01mif\u001b[39;00m is_iterator(key):\n",
      "File \u001b[1;32mc:\\Users\\Sezy\\anaconda3\\Lib\\site-packages\\pandas\\core\\series.py:1156\u001b[0m, in \u001b[0;36mSeries._get_value\u001b[1;34m(self, label, takeable)\u001b[0m\n\u001b[0;32m   1153\u001b[0m     \u001b[38;5;28;01mreturn\u001b[39;00m \u001b[38;5;28mself\u001b[39m\u001b[38;5;241m.\u001b[39m_values[label]\n\u001b[0;32m   1155\u001b[0m \u001b[38;5;66;03m# Similar to Index.get_value, but we do not fall back to positional\u001b[39;00m\n\u001b[1;32m-> 1156\u001b[0m loc \u001b[38;5;241m=\u001b[39m \u001b[38;5;28mself\u001b[39m\u001b[38;5;241m.\u001b[39mindex\u001b[38;5;241m.\u001b[39mget_loc(label)\n\u001b[0;32m   1158\u001b[0m \u001b[38;5;28;01mif\u001b[39;00m is_integer(loc):\n\u001b[0;32m   1159\u001b[0m     \u001b[38;5;28;01mreturn\u001b[39;00m \u001b[38;5;28mself\u001b[39m\u001b[38;5;241m.\u001b[39m_values[loc]\n",
      "File \u001b[1;32mc:\\Users\\Sezy\\anaconda3\\Lib\\site-packages\\pandas\\core\\indexes\\base.py:3798\u001b[0m, in \u001b[0;36mIndex.get_loc\u001b[1;34m(self, key)\u001b[0m\n\u001b[0;32m   3793\u001b[0m     \u001b[38;5;28;01mif\u001b[39;00m \u001b[38;5;28misinstance\u001b[39m(casted_key, \u001b[38;5;28mslice\u001b[39m) \u001b[38;5;129;01mor\u001b[39;00m (\n\u001b[0;32m   3794\u001b[0m         \u001b[38;5;28misinstance\u001b[39m(casted_key, abc\u001b[38;5;241m.\u001b[39mIterable)\n\u001b[0;32m   3795\u001b[0m         \u001b[38;5;129;01mand\u001b[39;00m \u001b[38;5;28many\u001b[39m(\u001b[38;5;28misinstance\u001b[39m(x, \u001b[38;5;28mslice\u001b[39m) \u001b[38;5;28;01mfor\u001b[39;00m x \u001b[38;5;129;01min\u001b[39;00m casted_key)\n\u001b[0;32m   3796\u001b[0m     ):\n\u001b[0;32m   3797\u001b[0m         \u001b[38;5;28;01mraise\u001b[39;00m InvalidIndexError(key)\n\u001b[1;32m-> 3798\u001b[0m     \u001b[38;5;28;01mraise\u001b[39;00m \u001b[38;5;167;01mKeyError\u001b[39;00m(key) \u001b[38;5;28;01mfrom\u001b[39;00m \u001b[38;5;21;01merr\u001b[39;00m\n\u001b[0;32m   3799\u001b[0m \u001b[38;5;28;01mexcept\u001b[39;00m \u001b[38;5;167;01mTypeError\u001b[39;00m:\n\u001b[0;32m   3800\u001b[0m     \u001b[38;5;66;03m# If we have a listlike key, _check_indexing_error will raise\u001b[39;00m\n\u001b[0;32m   3801\u001b[0m     \u001b[38;5;66;03m#  InvalidIndexError. Otherwise we fall through and re-raise\u001b[39;00m\n\u001b[0;32m   3802\u001b[0m     \u001b[38;5;66;03m#  the TypeError.\u001b[39;00m\n\u001b[0;32m   3803\u001b[0m     \u001b[38;5;28mself\u001b[39m\u001b[38;5;241m.\u001b[39m_check_indexing_error(key)\n",
      "\u001b[1;31mKeyError\u001b[0m: 'ITM1'"
     ]
    }
   ],
   "source": [
    "def predict_premium(row, strike_col):\n",
    "    current_price = row['open']\n",
    "    strike = row[strike_col]\n",
    "    # Calculate moneyness: how far the strike is from the current price, relative to the current price.\n",
    "    moneyness = (strike - current_price) / current_price\n",
    "    # Create the feature vector as expected by the model: [Current Price, Strike Price, Moneyness]\n",
    "    features = [[current_price, strike, moneyness]]\n",
    "    # Use the trained model to predict the premium.\n",
    "    return model.predict(features)[0]\n",
    "\n",
    "# Apply the prediction for each ITM strike column and store the result in a new column.\n",
    "for col in ['ITM1', 'ITM2', 'ITM3', 'ITM4', 'ITM5']:\n",
    "    merged_data[f'Estimated_Premium_{col}'] = merged_data.apply(lambda row: predict_premium(row, col), axis=1)\n",
    "\n",
    "# Display a sample of the results.\n",
    "print(merged_data[['date', 'open', 'ITM1', 'Estimated_Premium_ITM1']].head())"
   ]
  }
 ],
 "metadata": {
  "kernelspec": {
   "display_name": "base",
   "language": "python",
   "name": "python3"
  },
  "language_info": {
   "codemirror_mode": {
    "name": "ipython",
    "version": 3
   },
   "file_extension": ".py",
   "mimetype": "text/x-python",
   "name": "python",
   "nbconvert_exporter": "python",
   "pygments_lexer": "ipython3",
   "version": "3.11.7"
  }
 },
 "nbformat": 4,
 "nbformat_minor": 2
}
